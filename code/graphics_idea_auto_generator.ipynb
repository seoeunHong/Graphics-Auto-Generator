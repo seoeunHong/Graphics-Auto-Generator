{
 "cells": [
  {
   "cell_type": "markdown",
   "id": "f5880982-8c8c-4db3-95d2-272da16a63dd",
   "metadata": {},
   "source": [
    "# Graphics Idea Auto Generator\n",
    "\n",
    "1.⁠ ⁠ask openai to generate a graphic idea description, prompt engineered for the text to diagram engine \\\n",
    "2.⁠ ⁠⁠auto-generate the diagram"
   ]
  },
  {
   "cell_type": "markdown",
   "id": "419e2258-8d60-47d5-8979-e20914bd1f8b",
   "metadata": {},
   "source": [
    "## Using OpenAI To Generate a Graphic Idea"
   ]
  },
  {
   "cell_type": "code",
   "execution_count": 1,
   "id": "11fd07f0-0269-483f-960e-cfc9b5b264bb",
   "metadata": {},
   "outputs": [],
   "source": [
    "import pandas as pd\n",
    "import numpy as np\n",
    "import os\n",
    "from dotenv import load_dotenv\n",
    "from openai import AzureOpenAI\n",
    "import openai\n",
    "from docx2python import docx2python\n",
    "import re\n",
    "import textwrap\n",
    "import fitz "
   ]
  },
  {
   "cell_type": "code",
   "execution_count": 2,
   "id": "0ad9f9de-ea7b-42dc-a4a6-deb084469f02",
   "metadata": {},
   "outputs": [
    {
     "data": {
      "text/plain": [
       "True"
      ]
     },
     "execution_count": 2,
     "metadata": {},
     "output_type": "execute_result"
    }
   ],
   "source": [
    "load_dotenv()"
   ]
  },
  {
   "cell_type": "code",
   "execution_count": 24,
   "id": "bd3b7312-3744-4e04-80c0-d0f21b418bb6",
   "metadata": {},
   "outputs": [],
   "source": [
    "# OpenAI API configuration\n",
    "openai.api_type = \"azure\"\n",
    "openai.api_key = os.getenv(\"api_key_azure\")\n",
    "openai.api_base = os.getenv(\"AZURE_OPENAI_ENDPOINT\")\n",
    "openai.api_version = os.getenv(\"api_version\")\n",
    "#openai_deployment = \"sdgi-gpt-35-turbo-16k\"\n",
    "gpt_3_turbo = \"gpt-3.5-turbo\"\n",
    "got_4o = \"gpt-4o\"\n",
    "\n",
    "client = AzureOpenAI(\n",
    "  api_key = os.getenv(\"api_key_azure\"),  \n",
    "  api_version = os.getenv(\"api_version\"),\n",
    "  azure_endpoint =os.getenv(\"AZURE_OPENAI_ENDPOINT\") \n",
    ")"
   ]
  },
  {
   "cell_type": "code",
   "execution_count": 52,
   "id": "3e88a168-52e6-4667-8997-700b49af6c81",
   "metadata": {},
   "outputs": [],
   "source": [
    "# use this function to make simple openAI Calls\n",
    "def callOpenAI(messages, model):  \n",
    "    response_entities = openai.chat.completions.create(\n",
    "                    model=model,\n",
    "                    messages=messages\n",
    "                )\n",
    "    response = response_entities.choices[0].message.content\n",
    "    return response"
   ]
  },
  {
   "cell_type": "markdown",
   "id": "89b8b158-bdb3-4210-b88d-7c78f5a358dc",
   "metadata": {},
   "source": [
    "## Text Extraction from Module Dataset"
   ]
  },
  {
   "cell_type": "code",
   "execution_count": 5,
   "id": "815ef62b-3ca4-474a-98e2-b809e3f1e73c",
   "metadata": {},
   "outputs": [],
   "source": [
    "module_file_path = '../data/raw_data/SEA Module 3 Draft_v4.docx'\n",
    "output_file = '../data/extracted_data'"
   ]
  },
  {
   "cell_type": "code",
   "execution_count": 6,
   "id": "84a86e14-e139-41a5-a4f6-1a413a4073cb",
   "metadata": {},
   "outputs": [],
   "source": [
    "def docx_text_cleaning(text):\n",
    "    # Remove footage or image indications\n",
    "    cleaned_text = re.sub(r'----[^-]+----', '', text)\n",
    "\n",
    "    # Remove lines with only whitespace characters\n",
    "    cleaned_text = cleaned_text.replace('\\r', '\\n')\n",
    "    cleaned_text = re.sub(r\"\\n\", \" \", cleaned_text)  # remove newlines\n",
    "    cleaned_text = re.sub(r\"\\s\\s+\", ' ', cleaned_text)\n",
    "    cleaned_text = textwrap.fill(cleaned_text, width=80) \n",
    "    return cleaned_text"
   ]
  },
  {
   "cell_type": "code",
   "execution_count": 7,
   "id": "5a4b5e15-d15b-4921-8f21-903eaec65e7f",
   "metadata": {},
   "outputs": [],
   "source": [
    "def extract_text_docx(file_path):\n",
    "    with docx2python(file_path) as docx_content:\n",
    "        raw_text = docx_content.text\n",
    "        cleaned_text = docx_text_cleaning(raw_text)\n",
    "        return cleaned_text"
   ]
  },
  {
   "cell_type": "code",
   "execution_count": 8,
   "id": "86ea6872-e61a-4ea1-8ccc-11ff41b46942",
   "metadata": {},
   "outputs": [],
   "source": [
    "filename = 'SEA Module 3 Draft_v4'\n",
    "content = extract_text_docx(module_file_path)\n",
    "output_path = output_file + \"/\" + filename\n",
    "with open(output_path, \"w\") as f:\n",
    "        f.write(content)"
   ]
  },
  {
   "cell_type": "code",
   "execution_count": 48,
   "id": "8f623b7c-e2e6-4938-a4f2-ad959ea7682d",
   "metadata": {},
   "outputs": [],
   "source": [
    "def extract_text_by_toc(pdf_path):\n",
    "    document = fitz.open(pdf_path)\n",
    "    toc = document.get_toc()\n",
    "    \n",
    "    toc_text = {}\n",
    "\n",
    "    for index, toc_item in enumerate(toc):\n",
    "        _, title, start_page = toc_item\n",
    "        if 'warp' in title.lower():\n",
    "            break\n",
    "        \n",
    "        # Determine the end page\n",
    "        if index + 1 < len(toc):\n",
    "            _, _, next_start_page = toc[index + 1]\n",
    "            end_page = next_start_page - 1\n",
    "        else:\n",
    "            end_page = len(document)\n",
    "\n",
    "        # Extract text for the section\n",
    "        text = \"\"\n",
    "        for page_num in range(start_page - 1, end_page):\n",
    "            text += document[page_num].get_text()\n",
    "\n",
    "        # Store the text in the dictionary\n",
    "        toc_text[title] = text\n",
    "\n",
    "    return toc_text"
   ]
  },
  {
   "cell_type": "code",
   "execution_count": 49,
   "id": "e0a91139-254f-4a3d-83e3-fd1be45b2802",
   "metadata": {},
   "outputs": [],
   "source": [
    "# Usage example\n",
    "pdf_path = \"../data/raw_data/SEA Module 3 Draft_v4.pdf\"\n",
    "toc_text = extract_text_by_toc(pdf_path)\n",
    "extracted_data = '../data/extracted_data'\n",
    "for title, content in toc_text.items():\n",
    "    output_path = output_file_path + \"/\" + title + \".txt\"\n",
    "    with open(output_path, \"w\") as f:\n",
    "        f.write(content)"
   ]
  },
  {
   "cell_type": "code",
   "execution_count": 50,
   "id": "fdab8ef2-face-486a-9d33-cce18d461486",
   "metadata": {},
   "outputs": [],
   "source": [
    "def generate_graphic_ides(text):\n",
    "    model = \"gpt-4\"\n",
    "    message = f\"\"\"My job is to create engaging visual graph for UNDP module content. Act like an expert graphic designer and provide a visual description for the graph that the graphic designer can then implement.    \n",
    "    \n",
    "    The content of the UNDP module is delimited $$$\n",
    "    \n",
    "    $$$\n",
    "    {text}\n",
    "    $$$\n",
    "    \"\"\"\n",
    "    return callOpenAI(message, model)"
   ]
  },
  {
   "cell_type": "code",
   "execution_count": null,
   "id": "3505db90-318f-4576-906c-c1921ef54dd6",
   "metadata": {},
   "outputs": [],
   "source": [
    "graphics_idea_folder = 'graphics_idea'\n",
    "for filename in os.listdir(extracted_data)[:1]:\n",
    "   with open(os.path.join(extracted_data, filename), 'r') as f:\n",
    "       text = f.read()\n",
    "       graphic_idea = generate_graphic_ides(text)\n",
    "       output_path = graphics_idea_folder + \"/\" + title + \".txt\"\n",
    "       with open(output_path, \"w\") as f:\n",
    "           f.write(content)"
   ]
  },
  {
   "cell_type": "code",
   "execution_count": null,
   "id": "3e47cf34-7f41-403a-9688-b0fae968b690",
   "metadata": {},
   "outputs": [],
   "source": [
    "def generate_graphics(text):\n",
    "    model = \"dall-e-3\"\n",
    "    message = f\"\"\"Create a graph figure for the UNDP module using the above visual description. The graph should be clean, easy to read, and effectively convey the intended information.\n",
    "    \n",
    "    ```\n",
    "    {text}\n",
    "    ```\n",
    "    \"\"\"\n",
    "    return callOpenAI(message, model)"
   ]
  },
  {
   "cell_type": "code",
   "execution_count": null,
   "id": "e6e97abe-1622-457c-8b30-dbd3ef1aab71",
   "metadata": {},
   "outputs": [],
   "source": [
    "for filename in os.listdir(graphics_idea_folder)[:1]:\n",
    "   with open(os.path.join(graphics_idea_folder, filename), 'r') as f:\n",
    "       text = f.read()\n",
    "       graphic_idea = generate_graphic_ides(text)\n",
    "       output_path = \"graphics_vis/\" + title + \".png\"\n",
    "       with open(output_path, \"w\") as f:\n",
    "           f.write(content)"
   ]
  }
 ],
 "metadata": {
  "kernelspec": {
   "display_name": "Python 3 (ipykernel)",
   "language": "python",
   "name": "python3"
  },
  "language_info": {
   "codemirror_mode": {
    "name": "ipython",
    "version": 3
   },
   "file_extension": ".py",
   "mimetype": "text/x-python",
   "name": "python",
   "nbconvert_exporter": "python",
   "pygments_lexer": "ipython3",
   "version": "3.11.5"
  }
 },
 "nbformat": 4,
 "nbformat_minor": 5
}
