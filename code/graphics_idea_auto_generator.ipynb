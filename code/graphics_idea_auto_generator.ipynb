{
 "cells": [
  {
   "cell_type": "markdown",
   "id": "f5880982-8c8c-4db3-95d2-272da16a63dd",
   "metadata": {},
   "source": [
    "# Graphics Idea Auto Generator\n",
    "\n",
    "1.⁠ ⁠ask openai to generate a graphic idea description, prompt engineered for the text to diagram engine \\\n",
    "2.⁠ ⁠⁠auto-generate the diagram"
   ]
  },
  {
   "cell_type": "markdown",
   "id": "419e2258-8d60-47d5-8979-e20914bd1f8b",
   "metadata": {},
   "source": [
    "## Using OpenAI To Generate a Graphic Idea"
   ]
  },
  {
   "cell_type": "code",
   "execution_count": 15,
   "id": "11fd07f0-0269-483f-960e-cfc9b5b264bb",
   "metadata": {},
   "outputs": [],
   "source": [
    "import pandas as pd\n",
    "import numpy as np\n",
    "import os\n",
    "from dotenv import load_dotenv\n",
    "from openai import AzureOpenAI\n",
    "import openai\n",
    "from docx2python import docx2python\n",
    "import re\n",
    "import textwrap"
   ]
  },
  {
   "cell_type": "code",
   "execution_count": 2,
   "id": "0ad9f9de-ea7b-42dc-a4a6-deb084469f02",
   "metadata": {},
   "outputs": [
    {
     "data": {
      "text/plain": [
       "True"
      ]
     },
     "execution_count": 2,
     "metadata": {},
     "output_type": "execute_result"
    }
   ],
   "source": [
    "load_dotenv()"
   ]
  },
  {
   "cell_type": "code",
   "execution_count": 3,
   "id": "bd3b7312-3744-4e04-80c0-d0f21b418bb6",
   "metadata": {},
   "outputs": [],
   "source": [
    "# OpenAI API configuration\n",
    "openai.api_type = \"azure\"\n",
    "openai.api_key = os.getenv(\"api_key_azure\")\n",
    "openai.api_base = os.getenv(\"AZURE_OPENAI_ENDPOINT\")\n",
    "openai.api_version = os.getenv(\"api_version\")\n",
    "openai_deployment = \"sdgi-gpt-35-turbo-16k\"\n",
    "\n",
    "\n",
    "client = AzureOpenAI(\n",
    "  api_key = os.getenv(\"api_key_azure\"),  \n",
    "  api_version = os.getenv(\"api_version\"),\n",
    "  azure_endpoint =os.getenv(\"AZURE_OPENAI_ENDPOINT\") \n",
    ")"
   ]
  },
  {
   "cell_type": "code",
   "execution_count": 4,
   "id": "3e88a168-52e6-4667-8997-700b49af6c81",
   "metadata": {},
   "outputs": [],
   "source": [
    "# use this function to make simple openAI Calls\n",
    "def callOpenAI(messages):  \n",
    "    response_entities = openai.chat.completions.create(\n",
    "                    model=openai_deployment,\n",
    "                    temperature=0,\n",
    "                    messages=messages\n",
    "                )\n",
    "    response = response_entities.choices[0].message.content\n",
    "    return response"
   ]
  },
  {
   "cell_type": "markdown",
   "id": "89b8b158-bdb3-4210-b88d-7c78f5a358dc",
   "metadata": {},
   "source": [
    "## Text Extraction from Module Dataset"
   ]
  },
  {
   "cell_type": "code",
   "execution_count": 8,
   "id": "815ef62b-3ca4-474a-98e2-b809e3f1e73c",
   "metadata": {},
   "outputs": [],
   "source": [
    "module_file_path = '../data/raw_data/SEA Module 3 Draft_v4.docx'\n",
    "output_file = '../data/extracted_data'"
   ]
  },
  {
   "cell_type": "code",
   "execution_count": 6,
   "id": "84a86e14-e139-41a5-a4f6-1a413a4073cb",
   "metadata": {},
   "outputs": [],
   "source": [
    "def docx_text_cleaning(text):\n",
    "    # Remove footage or image indications\n",
    "    cleaned_text = re.sub(r'----[^-]+----', '', text)\n",
    "\n",
    "    # Remove lines with only whitespace characters\n",
    "    cleaned_text = cleaned_text.replace('\\r', '\\n')\n",
    "    cleaned_text = re.sub(r\"\\n\", \" \", cleaned_text)  # remove newlines\n",
    "    cleaned_text = re.sub(r\"\\s\\s+\", ' ', cleaned_text)\n",
    "    cleaned_text = textwrap.fill(cleaned_text, width=80) \n",
    "    return cleaned_text"
   ]
  },
  {
   "cell_type": "code",
   "execution_count": 7,
   "id": "5a4b5e15-d15b-4921-8f21-903eaec65e7f",
   "metadata": {},
   "outputs": [],
   "source": [
    "def extract_text_docx(file_path):\n",
    "    with docx2python(file_path) as docx_content:\n",
    "        raw_text = docx_content.text\n",
    "        cleaned_text = docx_text_cleaning(raw_text)\n",
    "        return cleaned_text"
   ]
  },
  {
   "cell_type": "code",
   "execution_count": 16,
   "id": "86ea6872-e61a-4ea1-8ccc-11ff41b46942",
   "metadata": {},
   "outputs": [],
   "source": [
    "filename = 'SEA Module 3 Draft_v4'\n",
    "content = extract_text_docx(module_file_path)\n",
    "output_path = output_file + \"/\" + filename\n",
    "with open(output_path, \"w\") as f:\n",
    "        f.write(content)"
   ]
  },
  {
   "cell_type": "code",
   "execution_count": 17,
   "id": "07945638-5456-4a5a-90eb-edeeb0246692",
   "metadata": {},
   "outputs": [],
   "source": [
    "def generate_graphics_idea(text):\n",
    "    messages = [\n",
    "            {\"role\": \"system\", \"content\": f\"\"\"\n",
    "            You are a UNDP module writer assistant.\n",
    "            Read the given passage and identify data points that would benefit from graphical representation for better understanding.\n",
    "            Additionally, suggest ideas for infographics that could enhance the overall presentation of the paragraph or text.\n",
    "            Provide specific recommendations on how these graphics or infographics should be designed and what information they should convey.\n",
    "            \"\"\"},\n",
    "            {\"role\": \"user\", \"content\": text}\n",
    "    ]\n",
    "    return callOpenAI(messages)"
   ]
  },
  {
   "cell_type": "code",
   "execution_count": 20,
   "id": "449ac972-e825-4293-9a58-6138fa01d55d",
   "metadata": {},
   "outputs": [],
   "source": [
    "file = open('../data/extracted_data/SEA Module 3 Draft_v4', 'r')\n",
    "content = file.read()\n",
    "file.close()"
   ]
  },
  {
   "cell_type": "code",
   "execution_count": null,
   "id": "8f933088-33b2-4009-9faf-49593914e629",
   "metadata": {},
   "outputs": [],
   "source": [
    "generate_graphics_idea(content)"
   ]
  },
  {
   "cell_type": "markdown",
   "id": "a36dcdb0-0715-4577-8b2c-6c875f0dc93c",
   "metadata": {},
   "source": [
    "The whole text exceeds OpenAI's token limit. Consider breaking it down into smaller sections."
   ]
  },
  {
   "cell_type": "code",
   "execution_count": null,
   "id": "402c9138-3a51-4c0b-8e50-12a4994ba65d",
   "metadata": {},
   "outputs": [],
   "source": []
  },
  {
   "cell_type": "code",
   "execution_count": null,
   "id": "34d25c1a-4643-45b2-8ddc-1e6cb7b692f5",
   "metadata": {},
   "outputs": [],
   "source": []
  }
 ],
 "metadata": {
  "kernelspec": {
   "display_name": "Python 3 (ipykernel)",
   "language": "python",
   "name": "python3"
  },
  "language_info": {
   "codemirror_mode": {
    "name": "ipython",
    "version": 3
   },
   "file_extension": ".py",
   "mimetype": "text/x-python",
   "name": "python",
   "nbconvert_exporter": "python",
   "pygments_lexer": "ipython3",
   "version": "3.11.5"
  }
 },
 "nbformat": 4,
 "nbformat_minor": 5
}
